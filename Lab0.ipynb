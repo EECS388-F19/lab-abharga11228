{
 "cells": [
  {
   "cell_type": "code",
   "execution_count": 1,
   "metadata": {},
   "outputs": [
    {
     "name": "stdout",
     "output_type": "stream",
     "text": [
      "Ankit Bhargava\n",
      "27\n",
      "17\n",
      "Sum = 44\n",
      "Average = 22.0\n"
     ]
    }
   ],
   "source": [
    "from random import randint as rand\n",
    "print(\"Ankit Bhargava\")\n",
    "alpha=rand(0,100)\n",
    "beta=rand(0,100)\n",
    "print(alpha)\n",
    "print(beta)\n",
    "print(\"Sum =\",alpha+beta)\n",
    "print(\"Average =\", (alpha+beta)/2)"
   ]
  },
  {
   "cell_type": "code",
   "execution_count": null,
   "metadata": {},
   "outputs": [],
   "source": []
  }
 ],
 "metadata": {
  "kernelspec": {
   "display_name": "Python 3",
   "language": "python",
   "name": "python3"
  },
  "language_info": {
   "codemirror_mode": {
    "name": "ipython",
    "version": 3
   },
   "file_extension": ".py",
   "mimetype": "text/x-python",
   "name": "python",
   "nbconvert_exporter": "python",
   "pygments_lexer": "ipython3",
   "version": "3.7.1"
  }
 },
 "nbformat": 4,
 "nbformat_minor": 2
}
